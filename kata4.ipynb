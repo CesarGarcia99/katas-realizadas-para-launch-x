{
 "cells": [
  {
   "cell_type": "markdown",
   "metadata": {},
   "source": [
    "El texto con el que trabajarás es el siguiente:"
   ]
  },
  {
   "cell_type": "code",
   "execution_count": 6,
   "metadata": {},
   "outputs": [],
   "source": [
    "texto = \"\"\"Interesting facts about the Moon.\n",
    "... The Moon is Earth's only satellite.\n",
    "... There are several interesting facts about the Moon and how it affects life here on Earth.\n",
    "... On average, the Moon moves 4cm away from the Earth every year.\n",
    "... This yearly drift is not significant enough to cause immediate effects on.\"\"\""
   ]
  },
  {
   "cell_type": "markdown",
   "metadata": {},
   "source": [
    "\n",
    "Primero, divide el texto en cada oración para trabajar con su contenido:\n"
   ]
  },
  {
   "cell_type": "markdown",
   "metadata": {},
   "source": [
    "Segundo, define algunas palabras clave para búsqueda que te ayudarán a determinar si una oración contiene un hecho."
   ]
  },
  {
   "cell_type": "markdown",
   "metadata": {},
   "source": [
    "Tercero, crea un bucle para imprimir solo datos sobre la Luna que estén relacionados con las palabras clave definidas anteriormente:"
   ]
  },
  {
   "cell_type": "markdown",
   "metadata": {},
   "source": [
    "Finalmente, actualiza el bucle(ciclo) para cambiar C a Celsius:"
   ]
  },
  {
   "cell_type": "code",
   "execution_count": 12,
   "metadata": {},
   "outputs": [
    {
     "name": "stdout",
     "output_type": "stream",
     "text": [
      "\n",
      "On average, the Moon moves 4 cm away from the Earth every year\n"
     ]
    }
   ],
   "source": [
    "texto = \"\"\"Interesting facts about the Moon.\n",
    "... The Moon is Earth's only satellite.\n",
    "... There are several interesting facts about the Moon and how it affects life here on Earth.\n",
    "... On average, the Moon moves 4 cm away from the Earth every year.\n",
    "... This yearly drift is not significant enough to cause immediate effects on\"\"\"\n",
    "\n",
    "#dividir el texto\n",
    "texto_partes= texto.split(\".\")\n",
    "texto_partes\n",
    "\n",
    "\n",
    "#palabras calve\n",
    "palabras_clave=[\"average\",\"temperature\",\"distance\"]\n",
    "\n",
    "#bucle \n",
    "for oraciones in texto_partes:\n",
    "    for palabras in palabras_clave:\n",
    "        if palabras in oraciones:\n",
    "            print(oraciones.replace(\"C\",\"Celsius\"))\n",
    "            break"
   ]
  },
  {
   "cell_type": "markdown",
   "metadata": {},
   "source": [
    "## Ejercicio 2: Formateando Cadenas\n",
    "\n",
    "Datos con los que vas a trabajar\n",
    "\n",
    "name = \"Moon\"\n",
    "gravity = 0.00162 # in kms\n",
    "planet = \"Earth\"\n",
    "\n",
    "Primero, crea un título para el texto. Debido a que este texto trata sobre la gravedad en la Tierra y la Luna, úsalo para crear un título significativo. Utiliza las variables en lugar de escribir.\n",
    "\n",
    "Ahora crea una plantilla de cadena multilínea para contener el resto de la información. En lugar de usar kilómetros, debes convertir la distancia a metros multiplicando por 1,000.\n",
    "\n",
    "Finalmente, usa ambas variables para unir el título y los hechos.\n",
    "\n",
    "\n",
    "\n",
    "Ahora usa información de una luna diferente para ver si la plantilla todavía funciona.\n",
    "\n",
    "Datos muestra:\n",
    "\n",
    "planeta = 'Marte '\n",
    "gravedad  = 0.00143\n",
    "nombre = 'Ganímedes'\n",
    "\n",
    "La salida no muestra información sobre Marte. Todavía muestra información sobre la Luna. Esto sucede porque las cadenas f están ansiosas en su evaluación, por lo que las variables una vez asignadas no se pueden reasignar. Para evitar este problema, vuelva a hacer la plantilla para utilizar .format():\n",
    "\n",
    "Debido a que .format() no permite expresiones, la gravedad en Ganímedes es incorrecta. Asegúrese de que la operación se realiza fuera de la plantilla de formato e imprima de nuevo para ver el resultado de trabajo."
   ]
  },
  {
   "cell_type": "code",
   "execution_count": 22,
   "metadata": {},
   "outputs": [
    {
     "name": "stdout",
     "output_type": "stream",
     "text": [
      "Datos De Gravedad Sobre:Tierra\n",
      "--------------------------------------------------------------------------------\n",
      "Nombre del planeta: Luna \n",
      "Gravedad en Tierra: 1.6199999999999999 m/s2\n",
      "Datos De Gravedad Sobre:Tierra\n",
      "--------------------------------------------------------------------------------\n",
      "Nombre del planeta: Luna \n",
      "Gravedad en Tierra: 1.6199999999999999 m/s2\n",
      "\n",
      "Datos de Gravedad sobre: Ganímedes\n",
      "-------------------------------------------------------------------------------\n",
      "Nombre del planeta: Marte \n",
      "Gravedad en Ganímedes: 1.4300000000000002 m/s2\n",
      "\n"
     ]
    }
   ],
   "source": [
    "#Datos a trabajar\n",
    "planeta = 'Luna '\n",
    "gravedad  = 0.00162\n",
    "nombre = 'Tierra'\n",
    "\n",
    "#titulo\n",
    "titulo=f'Datos de gravedad sobre:{nombre}'\n",
    "\n",
    "#plantilla\n",
    "plantilla=f\"\"\"{\"-\"*80}\n",
    "Nombre del planeta: {planeta}\n",
    "Gravedad en {nombre}: {gravedad*1000} m/s2\"\"\"\n",
    "\n",
    "#union\n",
    "union=f\"\"\"{titulo.title()}\n",
    "{plantilla}\"\"\"\n",
    "\n",
    "print(union)\n",
    "\n",
    "\n",
    "\n",
    "# Nuevos datos muestra\n",
    "planeta = 'Marte '\n",
    "gravedad  = 0.00143\n",
    "nombre = 'Ganímedes'\n",
    "\n",
    "# Comprobamos la plantilla\n",
    "print(union)\n",
    "\n",
    "#creamos una nueva plantilla\n",
    "new_template = \"\"\"\n",
    "Datos de Gravedad sobre: {nombre}\n",
    "-------------------------------------------------------------------------------\n",
    "Nombre del planeta: {planeta}\n",
    "Gravedad en {nombre}: {gravedad} m/s2\n",
    "\"\"\"\n",
    "print(new_template.format(nombre=nombre, planeta=planeta, gravedad=gravedad*1000))\n",
    "\n"
   ]
  }
 ],
 "metadata": {
  "interpreter": {
   "hash": "22dde3752887a3d11ff1022098fbfaad319f3701ab41e1ba036a68ab854d508c"
  },
  "kernelspec": {
   "display_name": "Python 3.10.2 64-bit (windows store)",
   "language": "python",
   "name": "python3"
  },
  "language_info": {
   "codemirror_mode": {
    "name": "ipython",
    "version": 3
   },
   "file_extension": ".py",
   "mimetype": "text/x-python",
   "name": "python",
   "nbconvert_exporter": "python",
   "pygments_lexer": "ipython3",
   "version": "3.10.2"
  },
  "orig_nbformat": 4
 },
 "nbformat": 4,
 "nbformat_minor": 2
}
