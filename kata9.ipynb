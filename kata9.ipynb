{
 "cells": [
  {
   "cell_type": "markdown",
   "metadata": {},
   "source": [
    "\n",
    "## Ejercicio: Uso de funciones en Python\n",
    "Ejercicio 1: Trabajar con argumentos en funciones\n",
    "\n",
    "Los argumentos requeridos en las funciones se utilizan cuando las funciones necesitan que esos argumentos funcionen correctamente. En este ejercicio, construirás un informe de combustible que requiere información de varias ubicaciones de combustible en todo el cohete.\n",
    "\n",
    "    TIP Dedica unos minutos para tratar de encontrar una solución. Luego desplázate hacia abajo hasta la parte inferior para ver si has logrado compilar el programa de acuerdo con las especificaciones\n",
    "\n",
    "Comienza por crear una función que necesite tres lecturas de combustible y devuelva un informe:\n",
    "\n",
    "Ahora que hemos definido la función de informes, vamos a comprobarlo. Para esta misión, los tanques no están llenos:\n",
    "\n",
    "En lugar de simplemente crear el informe, la función también está calculando el promedio. Mejora la legibilidad extrayendo el cálculo promedio de la función en una nueva función para que el promedio se pueda hacer de forma independiente:\n",
    "\n",
    "Ahora actualiza la función de informes para llamando a la nueva función del promedio:\n"
   ]
  },
  {
   "cell_type": "code",
   "execution_count": 1,
   "metadata": {},
   "outputs": [
    {
     "name": "stdout",
     "output_type": "stream",
     "text": [
      " Reporte total :\n",
      "    promedio: 78.33333333333333%\n",
      "    Tanque uno: 80%\n",
      "    Tanque dos: 70%\n",
      "    Tanque tres: 85% \n",
      "    \n",
      " Reporte total :\n",
      "    promedio: 78.0%\n",
      "    Tanque uno: 88%\n",
      "    Tanque dos: 76%\n",
      "    Tanque tres: 70% \n",
      "    \n"
     ]
    }
   ],
   "source": [
    "# Función para leer 3 tanques de combustible y muestre el promedio\n",
    "\n",
    "def generar_reporte(uno_tanque, dos_tanque, tres_tanque):\n",
    "    prom = (uno_tanque + dos_tanque + tres_tanque) / 3\n",
    "    return f\"\"\" Reporte total :\n",
    "    promedio: {prom}%\n",
    "    Tanque uno: {uno_tanque}%\n",
    "    Tanque dos: {dos_tanque}%\n",
    "    Tanque tres: {tres_tanque}% \n",
    "    \"\"\"\n",
    "\n",
    "# Llamamos a la función \n",
    "print(generar_reporte(80, 70, 85))\n",
    "\n",
    "def promedio(values):\n",
    "    total = sum(values)\n",
    "    numero_elementos = len(values)\n",
    "    return total / numero_elementos\n",
    "promedio([80, 85, 81])\n",
    "\n",
    "\n",
    "def generar_reporte(uno_tanque, dos_tanque, tres_tanque):\n",
    "    return f\"\"\" Reporte total :\n",
    "    promedio: {promedio([uno_tanque,dos_tanque,tres_tanque])}%\n",
    "    Tanque uno: {uno_tanque}%\n",
    "    Tanque dos: {dos_tanque}%\n",
    "    Tanque tres: {tres_tanque}% \n",
    "    \"\"\"\n",
    "print(generar_reporte(88, 76, 70))"
   ]
  },
  {
   "cell_type": "markdown",
   "metadata": {},
   "source": [
    "\n",
    "## Ejercicio 2: Trabajo con argumentos de palabra clave\n",
    "Ejercicio : Trabajar con argumentos de palabras clave en funciones\n",
    "\n",
    "En este ejercicio, construirás un informe de cohete que requiere varias piezas de información, como el tiempo hasta el destino, el combustible a la izquierda y el nombre del destino. Comienza por crear una función que creará un informe preciso de la misión:\n",
    "\n",
    "La función es problemática porque no se puede adaptar para minutos adicionales o tanques adicionales de combustible. Hazlo más flexible permitiendo cualquier número de pasos basados en el tiempo y cualquier número de tanques. En lugar de usar *args y **kwargs, aprovecha el hecho de que puedes usar cualquier nombre que desees. Asegurate que la función sea más legible mediante el uso de nombres de variables que están asociados con las entradas, como *minutes y **fuel_reservoirs:\n",
    "\n",
    "Debido a que el combustible que queda en los tanques es específico de cada tanque, actualiza la función para usar el nombre de cada tanque en el informe:\n"
   ]
  },
  {
   "cell_type": "code",
   "execution_count": 3,
   "metadata": {},
   "outputs": [
    {
     "name": "stdout",
     "output_type": "stream",
     "text": [
      "\n",
      "    Misión a Luna\n",
      "    Total tiempo del viaje : 65 minutos\n",
      "    Total combustible : 500000 galones\n",
      "    \n",
      "\n",
      "    Misión a Luna\n",
      "    Total tiempo del viaje : 76 minutes\n",
      "    Total combustible : 500000 galones\n",
      "    \n",
      "\n",
      "    Misión a Luna\n",
      "    Total tiempo de viaje : 74 minutes\n",
      "    Total combustible : 500000\n",
      "    principal tanque --> 300000 galones\n",
      "externo tanque --> 200000 galones\n",
      "\n"
     ]
    }
   ],
   "source": [
    "#función con un reporte de misión\n",
    "\n",
    "def reporte_mision(prelanzamiento, tiempo_vuelo, destino, tanque_externo, tanque):\n",
    "    return f\"\"\"\n",
    "    Misión a {destino}\n",
    "    Total tiempo del viaje : {prelanzamiento + tiempo_vuelo} minutos\n",
    "    Total combustible : {tanque_externo + tanque} galones\n",
    "    \"\"\"\n",
    "\n",
    "print(reporte_mision(14, 51, \"Luna\", 200000, 300000))\n",
    "\n",
    "#nueva función de reporte\n",
    "\n",
    "def reporte_mision(destino, *minutos, **reserva_combustible):\n",
    "    return f\"\"\"\n",
    "    Misión a {destino}\n",
    "    Total tiempo del viaje : {sum(minutos)} minutes\n",
    "    Total combustible : {sum(reserva_combustible.values())} galones\n",
    "    \"\"\"\n",
    "\n",
    "print(reporte_mision(\"Luna\", 10, 15, 51, principal=300000, externo=200000))\n",
    "\n",
    "#nueva función con una iteración for\n",
    "\n",
    "def reporte_mision(destino, *minutos, **reserva_combustible):\n",
    "    reporte_principal = f\"\"\"\n",
    "    Misión a {destino}\n",
    "    Total tiempo de viaje : {sum(minutos)} minutes\n",
    "    Total combustible : {sum(reserva_combustible.values())}\n",
    "    \"\"\"\n",
    "    for nombre_tanque, galones in reserva_combustible.items():\n",
    "        reporte_principal += f\"{nombre_tanque} tanque --> {galones} galones\\n\"\n",
    "    return reporte_principal\n",
    "\n",
    "print(reporte_mision(\"Luna\", 8, 11, 55, principal=300000, externo=200000))\n",
    "\n"
   ]
  }
 ],
 "metadata": {
  "interpreter": {
   "hash": "22dde3752887a3d11ff1022098fbfaad319f3701ab41e1ba036a68ab854d508c"
  },
  "kernelspec": {
   "display_name": "Python 3.10.2 64-bit (windows store)",
   "language": "python",
   "name": "python3"
  },
  "language_info": {
   "codemirror_mode": {
    "name": "ipython",
    "version": 3
   },
   "file_extension": ".py",
   "mimetype": "text/x-python",
   "name": "python",
   "nbconvert_exporter": "python",
   "pygments_lexer": "ipython3",
   "version": "3.10.2"
  },
  "orig_nbformat": 4
 },
 "nbformat": 4,
 "nbformat_minor": 2
}
